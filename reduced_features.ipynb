{
 "cells": [
  {
   "cell_type": "code",
   "execution_count": 52,
   "metadata": {},
   "outputs": [],
   "source": [
    "import numpy as np\n",
    "import pandas as pd\n",
    "import gc\n",
    "import xgboost as xgb\n",
    "import matplotlib.pyplot as plt\n",
    "from hyperopt import STATUS_OK, Trials, fmin, hp, tpe\n",
    "from sklearn.model_selection import KFold\n",
    "from sklearn.model_selection import cross_validate\n",
    "from sklearn.model_selection import train_test_split\n",
    "from sklearn.metrics import accuracy_score, roc_auc_score, confusion_matrix,roc_curve, f1_score, ConfusionMatrixDisplay, PrecisionRecallDisplay,precision_score, recall_score, RocCurveDisplay\n"
   ]
  },
  {
   "cell_type": "code",
   "execution_count": 53,
   "metadata": {},
   "outputs": [
    {
     "data": {
      "text/html": [
       "<div>\n",
       "<style scoped>\n",
       "    .dataframe tbody tr th:only-of-type {\n",
       "        vertical-align: middle;\n",
       "    }\n",
       "\n",
       "    .dataframe tbody tr th {\n",
       "        vertical-align: top;\n",
       "    }\n",
       "\n",
       "    .dataframe thead th {\n",
       "        text-align: right;\n",
       "    }\n",
       "</style>\n",
       "<table border=\"1\" class=\"dataframe\">\n",
       "  <thead>\n",
       "    <tr style=\"text-align: right;\">\n",
       "      <th></th>\n",
       "      <th>B_1_first</th>\n",
       "      <th>B_1_mean</th>\n",
       "      <th>B_1_std</th>\n",
       "      <th>B_1_min</th>\n",
       "      <th>B_1_max</th>\n",
       "      <th>B_1_last</th>\n",
       "      <th>B_10_first</th>\n",
       "      <th>B_10_mean</th>\n",
       "      <th>B_10_std</th>\n",
       "      <th>B_10_min</th>\n",
       "      <th>...</th>\n",
       "      <th>D_126_nunique</th>\n",
       "      <th>D_63_count</th>\n",
       "      <th>D_63_last</th>\n",
       "      <th>D_63_nunique</th>\n",
       "      <th>D_64_count</th>\n",
       "      <th>D_64_last</th>\n",
       "      <th>D_64_nunique</th>\n",
       "      <th>D_68_count</th>\n",
       "      <th>D_68_last</th>\n",
       "      <th>D_68_nunique</th>\n",
       "    </tr>\n",
       "  </thead>\n",
       "  <tbody>\n",
       "    <tr>\n",
       "      <th>0</th>\n",
       "      <td>0.008728</td>\n",
       "      <td>0.012009</td>\n",
       "      <td>0.006546</td>\n",
       "      <td>0.001930</td>\n",
       "      <td>0.021652</td>\n",
       "      <td>0.009384</td>\n",
       "      <td>0.096191</td>\n",
       "      <td>0.270264</td>\n",
       "      <td>0.181835</td>\n",
       "      <td>0.096191</td>\n",
       "      <td>...</td>\n",
       "      <td>1</td>\n",
       "      <td>13</td>\n",
       "      <td>CR</td>\n",
       "      <td>1</td>\n",
       "      <td>13</td>\n",
       "      <td>O</td>\n",
       "      <td>1</td>\n",
       "      <td>13</td>\n",
       "      <td>6.0</td>\n",
       "      <td>1</td>\n",
       "    </tr>\n",
       "    <tr>\n",
       "      <th>1</th>\n",
       "      <td>0.025787</td>\n",
       "      <td>0.025650</td>\n",
       "      <td>0.027750</td>\n",
       "      <td>0.006710</td>\n",
       "      <td>0.109619</td>\n",
       "      <td>0.034698</td>\n",
       "      <td>0.302734</td>\n",
       "      <td>0.298828</td>\n",
       "      <td>0.003044</td>\n",
       "      <td>0.293945</td>\n",
       "      <td>...</td>\n",
       "      <td>1</td>\n",
       "      <td>13</td>\n",
       "      <td>CO</td>\n",
       "      <td>1</td>\n",
       "      <td>13</td>\n",
       "      <td>O</td>\n",
       "      <td>1</td>\n",
       "      <td>13</td>\n",
       "      <td>6.0</td>\n",
       "      <td>1</td>\n",
       "    </tr>\n",
       "    <tr>\n",
       "      <th>2</th>\n",
       "      <td>0.001472</td>\n",
       "      <td>0.004387</td>\n",
       "      <td>0.002786</td>\n",
       "      <td>0.001472</td>\n",
       "      <td>0.009995</td>\n",
       "      <td>0.004284</td>\n",
       "      <td>0.222168</td>\n",
       "      <td>0.273682</td>\n",
       "      <td>0.052867</td>\n",
       "      <td>0.162109</td>\n",
       "      <td>...</td>\n",
       "      <td>1</td>\n",
       "      <td>13</td>\n",
       "      <td>CO</td>\n",
       "      <td>1</td>\n",
       "      <td>13</td>\n",
       "      <td>R</td>\n",
       "      <td>1</td>\n",
       "      <td>13</td>\n",
       "      <td>6.0</td>\n",
       "      <td>1</td>\n",
       "    </tr>\n",
       "    <tr>\n",
       "      <th>3</th>\n",
       "      <td>0.070312</td>\n",
       "      <td>0.059875</td>\n",
       "      <td>0.080538</td>\n",
       "      <td>0.005909</td>\n",
       "      <td>0.280029</td>\n",
       "      <td>0.012566</td>\n",
       "      <td>0.297852</td>\n",
       "      <td>0.306641</td>\n",
       "      <td>0.079525</td>\n",
       "      <td>0.192993</td>\n",
       "      <td>...</td>\n",
       "      <td>1</td>\n",
       "      <td>13</td>\n",
       "      <td>CO</td>\n",
       "      <td>1</td>\n",
       "      <td>13</td>\n",
       "      <td>O</td>\n",
       "      <td>1</td>\n",
       "      <td>13</td>\n",
       "      <td>3.0</td>\n",
       "      <td>3</td>\n",
       "    </tr>\n",
       "    <tr>\n",
       "      <th>4</th>\n",
       "      <td>0.003433</td>\n",
       "      <td>0.005939</td>\n",
       "      <td>0.002475</td>\n",
       "      <td>0.000776</td>\n",
       "      <td>0.009804</td>\n",
       "      <td>0.007679</td>\n",
       "      <td>0.058777</td>\n",
       "      <td>0.100342</td>\n",
       "      <td>0.074579</td>\n",
       "      <td>0.044739</td>\n",
       "      <td>...</td>\n",
       "      <td>1</td>\n",
       "      <td>13</td>\n",
       "      <td>CO</td>\n",
       "      <td>1</td>\n",
       "      <td>13</td>\n",
       "      <td>O</td>\n",
       "      <td>1</td>\n",
       "      <td>13</td>\n",
       "      <td>6.0</td>\n",
       "      <td>1</td>\n",
       "    </tr>\n",
       "    <tr>\n",
       "      <th>...</th>\n",
       "      <td>...</td>\n",
       "      <td>...</td>\n",
       "      <td>...</td>\n",
       "      <td>...</td>\n",
       "      <td>...</td>\n",
       "      <td>...</td>\n",
       "      <td>...</td>\n",
       "      <td>...</td>\n",
       "      <td>...</td>\n",
       "      <td>...</td>\n",
       "      <td>...</td>\n",
       "      <td>...</td>\n",
       "      <td>...</td>\n",
       "      <td>...</td>\n",
       "      <td>...</td>\n",
       "      <td>...</td>\n",
       "      <td>...</td>\n",
       "      <td>...</td>\n",
       "      <td>...</td>\n",
       "      <td>...</td>\n",
       "      <td>...</td>\n",
       "    </tr>\n",
       "    <tr>\n",
       "      <th>458908</th>\n",
       "      <td>0.006084</td>\n",
       "      <td>0.029175</td>\n",
       "      <td>0.014286</td>\n",
       "      <td>0.006084</td>\n",
       "      <td>0.051941</td>\n",
       "      <td>0.028519</td>\n",
       "      <td>0.370605</td>\n",
       "      <td>0.591309</td>\n",
       "      <td>0.373031</td>\n",
       "      <td>0.366211</td>\n",
       "      <td>...</td>\n",
       "      <td>1</td>\n",
       "      <td>13</td>\n",
       "      <td>CO</td>\n",
       "      <td>1</td>\n",
       "      <td>13</td>\n",
       "      <td>U</td>\n",
       "      <td>1</td>\n",
       "      <td>13</td>\n",
       "      <td>6.0</td>\n",
       "      <td>1</td>\n",
       "    </tr>\n",
       "    <tr>\n",
       "      <th>458909</th>\n",
       "      <td>0.431396</td>\n",
       "      <td>0.368408</td>\n",
       "      <td>0.051249</td>\n",
       "      <td>0.292480</td>\n",
       "      <td>0.452148</td>\n",
       "      <td>0.292480</td>\n",
       "      <td>0.037628</td>\n",
       "      <td>0.042603</td>\n",
       "      <td>0.016051</td>\n",
       "      <td>0.021011</td>\n",
       "      <td>...</td>\n",
       "      <td>1</td>\n",
       "      <td>13</td>\n",
       "      <td>CO</td>\n",
       "      <td>1</td>\n",
       "      <td>13</td>\n",
       "      <td>R</td>\n",
       "      <td>1</td>\n",
       "      <td>13</td>\n",
       "      <td>6.0</td>\n",
       "      <td>1</td>\n",
       "    </tr>\n",
       "    <tr>\n",
       "      <th>458910</th>\n",
       "      <td>0.063904</td>\n",
       "      <td>0.043030</td>\n",
       "      <td>0.040382</td>\n",
       "      <td>0.013000</td>\n",
       "      <td>0.162476</td>\n",
       "      <td>0.020569</td>\n",
       "      <td>0.302002</td>\n",
       "      <td>0.268555</td>\n",
       "      <td>0.069366</td>\n",
       "      <td>0.092590</td>\n",
       "      <td>...</td>\n",
       "      <td>1</td>\n",
       "      <td>13</td>\n",
       "      <td>CO</td>\n",
       "      <td>1</td>\n",
       "      <td>13</td>\n",
       "      <td>U</td>\n",
       "      <td>1</td>\n",
       "      <td>13</td>\n",
       "      <td>5.0</td>\n",
       "      <td>1</td>\n",
       "    </tr>\n",
       "    <tr>\n",
       "      <th>458911</th>\n",
       "      <td>0.003494</td>\n",
       "      <td>0.018158</td>\n",
       "      <td>0.009637</td>\n",
       "      <td>0.000281</td>\n",
       "      <td>0.030563</td>\n",
       "      <td>0.015839</td>\n",
       "      <td>0.092163</td>\n",
       "      <td>0.039734</td>\n",
       "      <td>0.041169</td>\n",
       "      <td>0.006924</td>\n",
       "      <td>...</td>\n",
       "      <td>1</td>\n",
       "      <td>13</td>\n",
       "      <td>CO</td>\n",
       "      <td>1</td>\n",
       "      <td>13</td>\n",
       "      <td>U</td>\n",
       "      <td>2</td>\n",
       "      <td>13</td>\n",
       "      <td>3.0</td>\n",
       "      <td>2</td>\n",
       "    </tr>\n",
       "    <tr>\n",
       "      <th>458912</th>\n",
       "      <td>0.119507</td>\n",
       "      <td>0.037964</td>\n",
       "      <td>0.034429</td>\n",
       "      <td>0.000077</td>\n",
       "      <td>0.119507</td>\n",
       "      <td>0.000077</td>\n",
       "      <td>0.123840</td>\n",
       "      <td>0.256592</td>\n",
       "      <td>0.202081</td>\n",
       "      <td>0.107117</td>\n",
       "      <td>...</td>\n",
       "      <td>1</td>\n",
       "      <td>13</td>\n",
       "      <td>CL</td>\n",
       "      <td>1</td>\n",
       "      <td>13</td>\n",
       "      <td>O</td>\n",
       "      <td>2</td>\n",
       "      <td>13</td>\n",
       "      <td>5.0</td>\n",
       "      <td>2</td>\n",
       "    </tr>\n",
       "  </tbody>\n",
       "</table>\n",
       "<p>458913 rows × 1266 columns</p>\n",
       "</div>"
      ],
      "text/plain": [
       "        B_1_first  B_1_mean   B_1_std   B_1_min   B_1_max  B_1_last  \\\n",
       "0        0.008728  0.012009  0.006546  0.001930  0.021652  0.009384   \n",
       "1        0.025787  0.025650  0.027750  0.006710  0.109619  0.034698   \n",
       "2        0.001472  0.004387  0.002786  0.001472  0.009995  0.004284   \n",
       "3        0.070312  0.059875  0.080538  0.005909  0.280029  0.012566   \n",
       "4        0.003433  0.005939  0.002475  0.000776  0.009804  0.007679   \n",
       "...           ...       ...       ...       ...       ...       ...   \n",
       "458908   0.006084  0.029175  0.014286  0.006084  0.051941  0.028519   \n",
       "458909   0.431396  0.368408  0.051249  0.292480  0.452148  0.292480   \n",
       "458910   0.063904  0.043030  0.040382  0.013000  0.162476  0.020569   \n",
       "458911   0.003494  0.018158  0.009637  0.000281  0.030563  0.015839   \n",
       "458912   0.119507  0.037964  0.034429  0.000077  0.119507  0.000077   \n",
       "\n",
       "        B_10_first  B_10_mean  B_10_std  B_10_min  ...  D_126_nunique  \\\n",
       "0         0.096191   0.270264  0.181835  0.096191  ...              1   \n",
       "1         0.302734   0.298828  0.003044  0.293945  ...              1   \n",
       "2         0.222168   0.273682  0.052867  0.162109  ...              1   \n",
       "3         0.297852   0.306641  0.079525  0.192993  ...              1   \n",
       "4         0.058777   0.100342  0.074579  0.044739  ...              1   \n",
       "...            ...        ...       ...       ...  ...            ...   \n",
       "458908    0.370605   0.591309  0.373031  0.366211  ...              1   \n",
       "458909    0.037628   0.042603  0.016051  0.021011  ...              1   \n",
       "458910    0.302002   0.268555  0.069366  0.092590  ...              1   \n",
       "458911    0.092163   0.039734  0.041169  0.006924  ...              1   \n",
       "458912    0.123840   0.256592  0.202081  0.107117  ...              1   \n",
       "\n",
       "        D_63_count  D_63_last  D_63_nunique  D_64_count  D_64_last  \\\n",
       "0               13         CR             1          13          O   \n",
       "1               13         CO             1          13          O   \n",
       "2               13         CO             1          13          R   \n",
       "3               13         CO             1          13          O   \n",
       "4               13         CO             1          13          O   \n",
       "...            ...        ...           ...         ...        ...   \n",
       "458908          13         CO             1          13          U   \n",
       "458909          13         CO             1          13          R   \n",
       "458910          13         CO             1          13          U   \n",
       "458911          13         CO             1          13          U   \n",
       "458912          13         CL             1          13          O   \n",
       "\n",
       "        D_64_nunique  D_68_count  D_68_last  D_68_nunique  \n",
       "0                  1          13        6.0             1  \n",
       "1                  1          13        6.0             1  \n",
       "2                  1          13        6.0             1  \n",
       "3                  1          13        3.0             3  \n",
       "4                  1          13        6.0             1  \n",
       "...              ...         ...        ...           ...  \n",
       "458908             1          13        6.0             1  \n",
       "458909             1          13        6.0             1  \n",
       "458910             1          13        5.0             1  \n",
       "458911             2          13        3.0             2  \n",
       "458912             2          13        5.0             2  \n",
       "\n",
       "[458913 rows x 1266 columns]"
      ]
     },
     "execution_count": 53,
     "metadata": {},
     "output_type": "execute_result"
    }
   ],
   "source": [
    "df = pd.read_parquet(\"processed_data/agg_data_preprocess_2.gzip\")\n",
    "df"
   ]
  },
  {
   "attachments": {},
   "cell_type": "markdown",
   "metadata": {},
   "source": [
    "Dataset has many features, is it possible to reduce the feature space?"
   ]
  },
  {
   "cell_type": "code",
   "execution_count": 54,
   "metadata": {},
   "outputs": [],
   "source": [
    "# these features are derived from Xgboost model's feature importance\n",
    "most_important_features = [\"P_2_min\",\"P_2_last\", \"P_2_mean\", \"B_1_last\", \"D_48_last\",\n",
    "                            \"D_44_last\", \"B_2_last\", \"B_3_last_lag_sub\", \"R_1_mean\", \"P_2_last_lag_div\", \"B_7_mean\",\n",
    "                            \"D_51_last\", \"D_56_mean\", \"B_10_last\", \"R_1_std\", \"D_44_max\", \"D_56_max\", \"B_23_last\", \"R_2_last\", \"B_8_mean\",\n",
    "                            \"R_27_min\", \"D_41_last_lag_sub\", \"B_3_last\", \"D_45_first\", \"B_4_last_lag_sub\", \"D_77_mean\"\n",
    "                            ]"
   ]
  },
  {
   "cell_type": "code",
   "execution_count": 55,
   "metadata": {},
   "outputs": [],
   "source": [
    "data = df[most_important_features]\n",
    "target = pd.read_feather(\"train_labels.ftr\")[\"target\"]"
   ]
  },
  {
   "cell_type": "code",
   "execution_count": 56,
   "metadata": {},
   "outputs": [
    {
     "name": "stdout",
     "output_type": "stream",
     "text": [
      "(371718, 26)\n",
      "(41303, 26)\n",
      "(45892, 26)\n"
     ]
    }
   ],
   "source": [
    "X_train, X_test, y_train, y_test = train_test_split(data, target, test_size=0.1)\n",
    "X_train, X_val, y_train, y_val = train_test_split(X_train, y_train, test_size=0.1)\n",
    "print(X_train.shape)\n",
    "print(X_val.shape)\n",
    "print(X_test.shape)"
   ]
  },
  {
   "cell_type": "code",
   "execution_count": 57,
   "metadata": {},
   "outputs": [
    {
     "data": {
      "text/plain": [
       "0.5957778692245483"
      ]
     },
     "execution_count": 57,
     "metadata": {},
     "output_type": "execute_result"
    }
   ],
   "source": [
    "X_test[\"B_2_last\"].mean()"
   ]
  },
  {
   "cell_type": "code",
   "execution_count": 58,
   "metadata": {},
   "outputs": [],
   "source": [
    "# data = {\n",
    "#     \"P_2_min\":[0.9599609375],\n",
    "#     \"P_2_last\":[0.9599609375],\n",
    "#     \"P_2_mean\":[0.9599609375],\n",
    "#     \"B_1_last\":[0.0090179443359375],\n",
    "#     \"D_48_last\":[0.195556640625],\n",
    "#     \"D_44_last\":[0.0063934326171875],\n",
    "#     \"B_2_last\":[0.81201171875],\n",
    "#     \"B_3_last_lag_sub\":[0.0],\n",
    "#     \"R_1_mean\":[0.00830841064453125],\n",
    "#     \"P_2_last_lag_div\":[1.0],\n",
    "#     \"B_7_mean\":[0.03790283203125],\n",
    "#     \"D_51_last\":[0.341796875],\n",
    "#     \"D_56_mean\":[0.110107421875],\n",
    "#     \"B_10_last\":[1.013671875],\n",
    "#     \"R_1_std\": [np.nan],\n",
    "#     \"D_44_max\":[0.0063934326171875],\n",
    "#     \"D_56_max\":[0.110107421875],\n",
    "#     \"B_23_last\":[0.0244903564453125],\n",
    "#     \"R_2_last\":[0.00908660888671875],\n",
    "#     \"B_8_mean\":[0.00899505615234375],\n",
    "#     \"R_27_min\":[np.nan],\n",
    "#     \"D_41_last_lag_sub\":[0.0],\n",
    "#     \"B_3_last\":[0.0086669921875],\n",
    "#     \"D_45_first\":[0.40234375],\n",
    "#     \"B_4_last_lag_sub\":[0.0],\n",
    "#     \"D_77_mean\":[0.265625],\n",
    "# }\n",
    "\n",
    "# df = pd.DataFrame.from_dict(data, orient='columns').reset_index()\n",
    "# df"
   ]
  },
  {
   "cell_type": "code",
   "execution_count": 59,
   "metadata": {},
   "outputs": [],
   "source": [
    "# pd.DataFrame(X_test.iloc[0]).reset_index().to_csv(\"temp.csv\", index=False)"
   ]
  },
  {
   "attachments": {},
   "cell_type": "markdown",
   "metadata": {},
   "source": [
    "# Xgboost with most important features"
   ]
  },
  {
   "cell_type": "code",
   "execution_count": 60,
   "metadata": {},
   "outputs": [],
   "source": [
    "xgboost_parameters = {\n",
    "    'verbosity': 1,\n",
    "    'max_depth':4, \n",
    "    'learning_rate':0.04, \n",
    "    'subsample':0.71,\n",
    "    'colsample_bytree':0.72, \n",
    "    'eval_metric':'logloss',\n",
    "    'objective':'binary:logistic',\n",
    "    'tree_method': 'gpu_hist',\n",
    "    'enable_categorical': True\n",
    "    }"
   ]
  },
  {
   "cell_type": "code",
   "execution_count": 61,
   "metadata": {},
   "outputs": [],
   "source": [
    "xgb_clf = xgb.XGBClassifier(**xgboost_parameters)\n",
    "cv_results = cross_validate(xgb_clf, X_train, y_train, cv=5, scoring=('roc_auc', 'precision', 'recall'), return_train_score=True)"
   ]
  },
  {
   "cell_type": "code",
   "execution_count": 62,
   "metadata": {},
   "outputs": [
    {
     "name": "stdout",
     "output_type": "stream",
     "text": [
      "Precision on validation set:  0.7839599362407779\n",
      "Recall on validation set:  0.775509533713449\n",
      "Roc_auc on validation set:  0.9483473008222421\n",
      "---------------------\n",
      "Precision on train set:  0.785927627368687\n",
      "Recall on train set:  0.7775966440698178\n",
      "Roc_auc on train set:  0.9492499635869022\n"
     ]
    }
   ],
   "source": [
    "print(\"Precision on validation set: \" , np.mean(cv_results['test_precision']))\n",
    "print(\"Recall on validation set: \" , np.mean(cv_results['test_recall']))\n",
    "print(\"Roc_auc on validation set: \" , np.mean(cv_results['test_roc_auc']))\n",
    "print(\"---------------------\")\n",
    "print(\"Precision on train set: \" , np.mean(cv_results['train_precision']))\n",
    "print(\"Recall on train set: \" , np.mean(cv_results['train_recall']))\n",
    "print(\"Roc_auc on train set: \" , np.mean(cv_results['train_roc_auc']))\n"
   ]
  },
  {
   "cell_type": "code",
   "execution_count": 63,
   "metadata": {},
   "outputs": [],
   "source": [
    "def display_metrics(predictor,y_true, y_pred_labels, y_pred_score):\n",
    "    fig, (ax1, ax2) = plt.subplots(1, 2, figsize=(15, 5))\n",
    "    accuracy = accuracy_score(y_true, y_pred_labels)\n",
    "    print(\"Accuracy: \", accuracy)\n",
    "    precision = precision_score(y_true, y_pred_labels)\n",
    "    print(\"Precision score: \", precision)\n",
    "    recall = recall_score(y_true, y_pred_labels)\n",
    "    print(\"Recall score: \", recall)\n",
    "    f1 = f1_score(y_true, y_pred_labels)\n",
    "    print(\"F1 score: \", f1)\n",
    "    rocauc = roc_auc_score(y_true, y_pred_labels)\n",
    "    print(\"roc_auc score: \", rocauc)\n",
    "    conf_matrix = confusion_matrix(y_true, y_pred_labels)\n",
    "    fpr, tpr, _ = roc_curve(y_true, y_pred_score[:, 1])\n",
    "    roc_display = RocCurveDisplay(fpr=fpr, tpr=tpr).plot(ax=ax2)\n",
    "    disp = ConfusionMatrixDisplay(conf_matrix, display_labels=predictor.classes_).plot(ax=ax1)"
   ]
  },
  {
   "cell_type": "code",
   "execution_count": 64,
   "metadata": {},
   "outputs": [
    {
     "data": {
      "text/html": [
       "<style>#sk-container-id-1 {color: black;background-color: white;}#sk-container-id-1 pre{padding: 0;}#sk-container-id-1 div.sk-toggleable {background-color: white;}#sk-container-id-1 label.sk-toggleable__label {cursor: pointer;display: block;width: 100%;margin-bottom: 0;padding: 0.3em;box-sizing: border-box;text-align: center;}#sk-container-id-1 label.sk-toggleable__label-arrow:before {content: \"▸\";float: left;margin-right: 0.25em;color: #696969;}#sk-container-id-1 label.sk-toggleable__label-arrow:hover:before {color: black;}#sk-container-id-1 div.sk-estimator:hover label.sk-toggleable__label-arrow:before {color: black;}#sk-container-id-1 div.sk-toggleable__content {max-height: 0;max-width: 0;overflow: hidden;text-align: left;background-color: #f0f8ff;}#sk-container-id-1 div.sk-toggleable__content pre {margin: 0.2em;color: black;border-radius: 0.25em;background-color: #f0f8ff;}#sk-container-id-1 input.sk-toggleable__control:checked~div.sk-toggleable__content {max-height: 200px;max-width: 100%;overflow: auto;}#sk-container-id-1 input.sk-toggleable__control:checked~label.sk-toggleable__label-arrow:before {content: \"▾\";}#sk-container-id-1 div.sk-estimator input.sk-toggleable__control:checked~label.sk-toggleable__label {background-color: #d4ebff;}#sk-container-id-1 div.sk-label input.sk-toggleable__control:checked~label.sk-toggleable__label {background-color: #d4ebff;}#sk-container-id-1 input.sk-hidden--visually {border: 0;clip: rect(1px 1px 1px 1px);clip: rect(1px, 1px, 1px, 1px);height: 1px;margin: -1px;overflow: hidden;padding: 0;position: absolute;width: 1px;}#sk-container-id-1 div.sk-estimator {font-family: monospace;background-color: #f0f8ff;border: 1px dotted black;border-radius: 0.25em;box-sizing: border-box;margin-bottom: 0.5em;}#sk-container-id-1 div.sk-estimator:hover {background-color: #d4ebff;}#sk-container-id-1 div.sk-parallel-item::after {content: \"\";width: 100%;border-bottom: 1px solid gray;flex-grow: 1;}#sk-container-id-1 div.sk-label:hover label.sk-toggleable__label {background-color: #d4ebff;}#sk-container-id-1 div.sk-serial::before {content: \"\";position: absolute;border-left: 1px solid gray;box-sizing: border-box;top: 0;bottom: 0;left: 50%;z-index: 0;}#sk-container-id-1 div.sk-serial {display: flex;flex-direction: column;align-items: center;background-color: white;padding-right: 0.2em;padding-left: 0.2em;position: relative;}#sk-container-id-1 div.sk-item {position: relative;z-index: 1;}#sk-container-id-1 div.sk-parallel {display: flex;align-items: stretch;justify-content: center;background-color: white;position: relative;}#sk-container-id-1 div.sk-item::before, #sk-container-id-1 div.sk-parallel-item::before {content: \"\";position: absolute;border-left: 1px solid gray;box-sizing: border-box;top: 0;bottom: 0;left: 50%;z-index: -1;}#sk-container-id-1 div.sk-parallel-item {display: flex;flex-direction: column;z-index: 1;position: relative;background-color: white;}#sk-container-id-1 div.sk-parallel-item:first-child::after {align-self: flex-end;width: 50%;}#sk-container-id-1 div.sk-parallel-item:last-child::after {align-self: flex-start;width: 50%;}#sk-container-id-1 div.sk-parallel-item:only-child::after {width: 0;}#sk-container-id-1 div.sk-dashed-wrapped {border: 1px dashed gray;margin: 0 0.4em 0.5em 0.4em;box-sizing: border-box;padding-bottom: 0.4em;background-color: white;}#sk-container-id-1 div.sk-label label {font-family: monospace;font-weight: bold;display: inline-block;line-height: 1.2em;}#sk-container-id-1 div.sk-label-container {text-align: center;}#sk-container-id-1 div.sk-container {/* jupyter's `normalize.less` sets `[hidden] { display: none; }` but bootstrap.min.css set `[hidden] { display: none !important; }` so we also need the `!important` here to be able to override the default hidden behavior on the sphinx rendered scikit-learn.org. See: https://github.com/scikit-learn/scikit-learn/issues/21755 */display: inline-block !important;position: relative;}#sk-container-id-1 div.sk-text-repr-fallback {display: none;}</style><div id=\"sk-container-id-1\" class=\"sk-top-container\"><div class=\"sk-text-repr-fallback\"><pre>XGBClassifier(base_score=0.5, booster=&#x27;gbtree&#x27;, callbacks=None,\n",
       "              colsample_bylevel=1, colsample_bynode=1, colsample_bytree=0.72,\n",
       "              early_stopping_rounds=None, enable_categorical=True,\n",
       "              eval_metric=&#x27;logloss&#x27;, feature_types=None, gamma=0, gpu_id=0,\n",
       "              grow_policy=&#x27;depthwise&#x27;, importance_type=None,\n",
       "              interaction_constraints=&#x27;&#x27;, learning_rate=0.04, max_bin=256,\n",
       "              max_cat_threshold=64, max_cat_to_onehot=4, max_delta_step=0,\n",
       "              max_depth=4, max_leaves=0, min_child_weight=1, missing=nan,\n",
       "              monotone_constraints=&#x27;()&#x27;, n_estimators=100, n_jobs=0,\n",
       "              num_parallel_tree=1, predictor=&#x27;auto&#x27;, random_state=0, ...)</pre><b>In a Jupyter environment, please rerun this cell to show the HTML representation or trust the notebook. <br />On GitHub, the HTML representation is unable to render, please try loading this page with nbviewer.org.</b></div><div class=\"sk-container\" hidden><div class=\"sk-item\"><div class=\"sk-estimator sk-toggleable\"><input class=\"sk-toggleable__control sk-hidden--visually\" id=\"sk-estimator-id-1\" type=\"checkbox\" checked><label for=\"sk-estimator-id-1\" class=\"sk-toggleable__label sk-toggleable__label-arrow\">XGBClassifier</label><div class=\"sk-toggleable__content\"><pre>XGBClassifier(base_score=0.5, booster=&#x27;gbtree&#x27;, callbacks=None,\n",
       "              colsample_bylevel=1, colsample_bynode=1, colsample_bytree=0.72,\n",
       "              early_stopping_rounds=None, enable_categorical=True,\n",
       "              eval_metric=&#x27;logloss&#x27;, feature_types=None, gamma=0, gpu_id=0,\n",
       "              grow_policy=&#x27;depthwise&#x27;, importance_type=None,\n",
       "              interaction_constraints=&#x27;&#x27;, learning_rate=0.04, max_bin=256,\n",
       "              max_cat_threshold=64, max_cat_to_onehot=4, max_delta_step=0,\n",
       "              max_depth=4, max_leaves=0, min_child_weight=1, missing=nan,\n",
       "              monotone_constraints=&#x27;()&#x27;, n_estimators=100, n_jobs=0,\n",
       "              num_parallel_tree=1, predictor=&#x27;auto&#x27;, random_state=0, ...)</pre></div></div></div></div></div>"
      ],
      "text/plain": [
       "XGBClassifier(base_score=0.5, booster='gbtree', callbacks=None,\n",
       "              colsample_bylevel=1, colsample_bynode=1, colsample_bytree=0.72,\n",
       "              early_stopping_rounds=None, enable_categorical=True,\n",
       "              eval_metric='logloss', feature_types=None, gamma=0, gpu_id=0,\n",
       "              grow_policy='depthwise', importance_type=None,\n",
       "              interaction_constraints='', learning_rate=0.04, max_bin=256,\n",
       "              max_cat_threshold=64, max_cat_to_onehot=4, max_delta_step=0,\n",
       "              max_depth=4, max_leaves=0, min_child_weight=1, missing=nan,\n",
       "              monotone_constraints='()', n_estimators=100, n_jobs=0,\n",
       "              num_parallel_tree=1, predictor='auto', random_state=0, ...)"
      ]
     },
     "execution_count": 64,
     "metadata": {},
     "output_type": "execute_result"
    }
   ],
   "source": [
    "xgb_clf.fit(X_train, y_train)"
   ]
  },
  {
   "cell_type": "code",
   "execution_count": 65,
   "metadata": {},
   "outputs": [
    {
     "name": "stdout",
     "output_type": "stream",
     "text": [
      "Accuracy:  0.887430794311817\n",
      "Precision score:  0.7853587483888546\n",
      "Recall score:  0.7781988848162646\n",
      "F1 score:  0.7817624233320816\n",
      "roc_auc score:  0.8519132007547489\n"
     ]
    },
    {
     "data": {
      "image/png": "[encoded data removed]",
      "text/plain": [
       "<Figure size 1500x500 with 3 Axes>"
      ]
     },
     "metadata": {},
     "output_type": "display_data"
    }
   ],
   "source": [
    "pred_train = xgb_clf.predict(X_train)\n",
    "pred_proba_train = xgb_clf.predict_proba(X_train)\n",
    "display_metrics(xgb_clf, y_train, pred_train, pred_proba_train)"
   ]
  },
  {
   "cell_type": "code",
   "execution_count": 72,
   "metadata": {},
   "outputs": [
    {
     "data": {
      "text/plain": [
       "array([ 5.66406250e-01,  5.66406250e-01,  8.27148438e-01,  2.25067139e-03,\n",
       "        4.04968262e-02,  8.79669189e-03,  8.19335938e-01,  6.76345825e-03,\n",
       "        1.20361328e-01,  6.34765625e-01,  8.14819336e-03,  6.57272339e-03,\n",
       "                   nan,  2.17437744e-02,  2.99900233e-01,  9.70458984e-03,\n",
       "                   nan,  1.43356323e-02,  5.32150269e-03,  5.53894043e-03,\n",
       "        1.00195312e+00, -1.58309937e-03,  7.27462769e-03,  3.41308594e-01,\n",
       "       -6.59942627e-04,  9.33837891e-02])"
      ]
     },
     "execution_count": 72,
     "metadata": {},
     "output_type": "execute_result"
    }
   ],
   "source": [
    "X_test.iloc[0].values"
   ]
  },
  {
   "cell_type": "code",
   "execution_count": 66,
   "metadata": {},
   "outputs": [
    {
     "name": "stdout",
     "output_type": "stream",
     "text": [
      "Accuracy:  0.8847293645951364\n",
      "Precision score:  0.7772746689448954\n",
      "Recall score:  0.7722604193192428\n",
      "F1 score:  0.7747594311504726\n",
      "roc_auc score:  0.8479167301368868\n"
     ]
    },
    {
     "data": {
      "image/png": "[encoded data removed]",
      "text/plain": [
       "<Figure size 1500x500 with 3 Axes>"
      ]
     },
     "metadata": {},
     "output_type": "display_data"
    }
   ],
   "source": [
    "pred_test = xgb_clf.predict(X_test)\n",
    "pred_prob = xgb_clf.predict_proba(X_test)\n",
    "display_metrics(xgb_clf, y_test, pred_test, pred_prob)"
   ]
  },
  {
   "cell_type": "code",
   "execution_count": 67,
   "metadata": {},
   "outputs": [],
   "source": [
    "xgb_clf.save_model(\"reduced_xgboost.json\")"
   ]
  },
  {
   "cell_type": "code",
   "execution_count": 75,
   "metadata": {},
   "outputs": [
    {
     "data": {
      "text/plain": [
       "67253    0\n",
       "Name: target, dtype: int64"
      ]
     },
     "execution_count": 75,
     "metadata": {},
     "output_type": "execute_result"
    }
   ],
   "source": [
    "y_test[0:1]"
   ]
  },
  {
   "attachments": {},
   "cell_type": "markdown",
   "metadata": {},
   "source": [
    "## XGboost Hyperparameter Optimization"
   ]
  },
  {
   "cell_type": "code",
   "execution_count": 17,
   "metadata": {},
   "outputs": [],
   "source": [
    "space={'max_depth': hp.quniform(\"max_depth\", 3, 18, 1),\n",
    "        'gamma': hp.uniform ('gamma', 1,9),\n",
    "        'alpha' : hp.uniform('alpha', 0, 10),\n",
    "        'lambda' : hp.uniform('lambda', 1,10),\n",
    "        'colsample_bytree' : hp.uniform('colsample_bytree', 0.5,1),\n",
    "        'min_child_weight' : hp.quniform('min_child_weight', 0, 10, 1),\n",
    "        'n_estimators': 180,\n",
    "        'subsample': hp.uniform('subsample', 0.5, 1),\n",
    "        'eta': hp.uniform('eta', 0.1, 1)\n",
    "    }"
   ]
  },
  {
   "cell_type": "code",
   "execution_count": 18,
   "metadata": {},
   "outputs": [],
   "source": [
    "def objective(space):\n",
    "    clf=xgb.XGBClassifier(\n",
    "                    n_estimators =space['n_estimators'], max_depth = int(space['max_depth']), gamma = space['gamma'],\n",
    "                    alpha = int(space['alpha']), eta=space['eta'], subsample=space['subsample'], \n",
    "                    reg_lambda=space['lambda'],\n",
    "                    min_child_weight=int(space['min_child_weight']), enable_categorical=True,\n",
    "                    tree_method='gpu_hist', eval_metric=\"auc\",  early_stopping_rounds=10,\n",
    "                    colsample_bytree=int(space['colsample_bytree']))\n",
    "    \n",
    "    evaluation = [( X_train, y_train), ( X_val, y_val)]\n",
    "    \n",
    "    clf.fit(X_train, y_train,\n",
    "            eval_set=evaluation, \n",
    "           verbose=False)\n",
    "    \n",
    "\n",
    "    pred = clf.predict(X_val)\n",
    "    accuracy = accuracy_score(y_val, pred>0.5)\n",
    "    print (\"SCORE:\", accuracy)\n",
    "    return {'loss': -accuracy, 'status': STATUS_OK }"
   ]
  },
  {
   "cell_type": "code",
   "execution_count": 19,
   "metadata": {},
   "outputs": [
    {
     "name": "stdout",
     "output_type": "stream",
     "text": [
      "SCORE:                                                 \n",
      "0.885553107522456                                      \n",
      "SCORE:                                                                           \n",
      "0.8846815001331623                                                               \n",
      "SCORE:                                                                           \n",
      "0.8856015301551945                                                               \n",
      "SCORE:                                                                            \n",
      "0.8851899377769169                                                                \n",
      "SCORE:                                                                            \n",
      "0.8859889112171029                                                                \n",
      "SCORE:                                                                            \n",
      "0.8856499527879331                                                                \n",
      "SCORE:                                                                            \n",
      "0.8853594169915018                                                                \n",
      "SCORE:                                                                            \n",
      "0.8858436433188872                                                                \n",
      "SCORE:                                                                            \n",
      "0.8848509793477471                                                                \n",
      "SCORE:                                                                            \n",
      "0.8860615451662107                                                                \n",
      "SCORE:                                                                             \n",
      "0.8857952206861487                                                                 \n",
      "SCORE:                                                                             \n",
      "0.8862552356971648                                                                 \n",
      "SCORE:                                                                             \n",
      "0.8861099677989492                                                                 \n",
      "SCORE:                                                                             \n",
      "0.8860615451662107                                                                 \n",
      "SCORE:                                                                             \n",
      "0.885819432002518                                                                  \n",
      "SCORE:                                                                             \n",
      "0.8854562622569789                                                                 \n",
      "SCORE:                                                                             \n",
      "0.8856741641043023                                                                 \n",
      "SCORE:                                                                             \n",
      "0.8848509793477471                                                                 \n",
      "SCORE:                                                                             \n",
      "0.8855046848897175                                                                 \n",
      "SCORE:                                                                             \n",
      "0.8850930925114399                                                                 \n",
      "SCORE:                                                                             \n",
      "0.8848994019804857                                                                 \n",
      "SCORE:                                                                             \n",
      "0.8860857564825799                                                                 \n",
      "SCORE:                                                                             \n",
      "0.885819432002518                                                                  \n",
      "SCORE:                                                                             \n",
      "0.885916277267995                                                                  \n",
      "SCORE:                                                                             \n",
      "0.8862310243807956                                                                 \n",
      "SCORE:                                                                             \n",
      "0.8869573638718737                                                                 \n",
      "SCORE:                                                                             \n",
      "0.8853109943587633                                                                 \n",
      "SCORE:                                                                             \n",
      "0.8865941941263347                                                                 \n",
      "SCORE:                                                                             \n",
      "0.8859404885843644                                                                 \n",
      "SCORE:                                                                             \n",
      "0.885916277267995                                                                  \n",
      "SCORE:                                                                             \n",
      "0.8852383604096554                                                                 \n",
      "SCORE:                                                                             \n",
      "0.8816792969033727                                                                 \n",
      "SCORE:                                                                             \n",
      "0.8854804735733481                                                                 \n",
      "SCORE:                                                                             \n",
      "0.8861341791153186                                                                 \n",
      "SCORE:                                                                             \n",
      "0.885020458562332                                                                  \n",
      "SCORE:                                                                             \n",
      "0.8856499527879331                                                                 \n",
      "SCORE:                                                                             \n",
      "0.885020458562332                                                                  \n",
      "SCORE:                                                                             \n",
      "0.8862310243807956                                                                 \n",
      "SCORE:                                                                             \n",
      "0.8848267680313778                                                                 \n",
      "SCORE:                                                                             \n",
      "0.8852625717260247                                                                 \n",
      "SCORE:                                                                             \n",
      "0.8857467980534102                                                                 \n",
      "SCORE:                                                                             \n",
      "0.8845604435513159                                                                 \n",
      "SCORE:                                                                             \n",
      "0.8869331525555044                                                                 \n",
      "SCORE:                                                                             \n",
      "0.8853836283078711                                                                 \n",
      "SCORE:                                                                             \n",
      "0.8861099677989492                                                                 \n",
      "SCORE:                                                                             \n",
      "0.8854562622569789                                                                 \n",
      "SCORE:                                                                             \n",
      "0.8855288962060868                                                                 \n",
      "SCORE:                                                                             \n",
      "0.8857952206861487                                                                 \n",
      "SCORE:                                                                             \n",
      "0.885286783042394                                                                  \n",
      "SCORE:                                                                             \n",
      "0.8843425417039924                                                                 \n",
      "SCORE:                                                                             \n",
      "0.8865941941263347                                                                 \n",
      "SCORE:                                                                             \n",
      "0.8853594169915018                                                                 \n",
      "SCORE:                                                                             \n",
      "0.8854562622569789                                                                 \n",
      "SCORE:                                                                             \n",
      "0.8860131225334722                                                                 \n",
      "SCORE:                                                                             \n",
      "0.8860373338498414                                                                 \n",
      "SCORE:                                                                             \n",
      "0.8851415151441784                                                                 \n",
      "SCORE:                                                                             \n",
      "0.8854804735733481                                                                 \n",
      "SCORE:                                                                             \n",
      "0.8854078396242404                                                                 \n",
      "SCORE:                                                                             \n",
      "0.8857710093697795                                                                 \n",
      "SCORE:                                                                             \n",
      "0.8854320509406096                                                                 \n",
      "SCORE:                                                                             \n",
      "0.8849478246132242                                                                 \n",
      "SCORE:                                                                             \n",
      "0.8857952206861487                                                                 \n",
      "SCORE:                                                                             \n",
      "0.8860857564825799                                                                 \n",
      "SCORE:                                                                             \n",
      "0.8844151756531002                                                                 \n",
      "SCORE:                                                                             \n",
      "0.8820182553325424                                                                 \n",
      "SCORE:                                                                             \n",
      "0.8871026317700893                                                                 \n",
      "SCORE:                                                                             \n",
      "0.8856257414715638                                                                 \n",
      "SCORE:                                                                             \n",
      "0.8866426167590732                                                                 \n",
      "SCORE:                                                                             \n",
      "0.8859404885843644                                                                 \n",
      "SCORE:                                                                             \n",
      "0.8861099677989492                                                                 \n",
      "SCORE:                                                                             \n",
      "0.885819432002518                                                                  \n",
      "SCORE:                                                                             \n",
      "0.8857952206861487                                                                 \n",
      "SCORE:                                                                             \n",
      "0.8856499527879331                                                                 \n",
      "SCORE:                                                                             \n",
      "0.8861341791153186                                                                 \n",
      "SCORE:                                                                             \n",
      "0.8860131225334722                                                                 \n",
      "SCORE:                                                                             \n",
      "0.8855288962060868                                                                 \n",
      "SCORE:                                                                             \n",
      "0.8845120209185774                                                                 \n",
      "SCORE:                                                                             \n",
      "0.8856499527879331                                                                 \n",
      "SCORE:                                                                             \n",
      "0.8859646999007336                                                                 \n",
      "SCORE:                                                                             \n",
      "0.8850930925114399                                                                 \n",
      "SCORE:                                                                             \n",
      "0.885553107522456                                                                  \n",
      "SCORE:                                                                             \n",
      "0.8862068130644263                                                                 \n",
      "SCORE:                                                                             \n",
      "0.8868363072900274                                                                 \n",
      "SCORE:                                                                             \n",
      "0.8852141490932862                                                                 \n",
      "SCORE:                                                                             \n",
      "0.8853594169915018                                                                 \n",
      "SCORE:                                                                             \n",
      "0.8859889112171029                                                                 \n",
      "SCORE:                                                                             \n",
      "0.8862068130644263                                                                 \n",
      "SCORE:                                                                             \n",
      "0.8860857564825799                                                                 \n",
      "SCORE:                                                                             \n",
      "0.8866910393918117                                                                 \n",
      "SCORE:                                                                             \n",
      "0.8861826017480571                                                                 \n",
      "SCORE:                                                                             \n",
      "0.8854320509406096                                                                 \n",
      "SCORE:                                                                             \n",
      "0.884923613296855                                                                  \n",
      "SCORE:                                                                             \n",
      "0.8858920659516258                                                                 \n",
      "SCORE:                                                                             \n",
      "0.885020458562332                                                                  \n",
      "SCORE:                                                                             \n",
      "0.885819432002518                                                                  \n",
      "SCORE:                                                                             \n",
      "0.8862552356971648                                                                 \n",
      "SCORE:                                                                             \n",
      "0.8851173038278091                                                                 \n",
      "SCORE:                                                                             \n",
      "0.8853836283078711                                                                 \n",
      "SCORE:                                                                             \n",
      "0.8850446698787013                                                                 \n",
      "SCORE:                                                                             \n",
      "0.8853836283078711                                                                 \n",
      "100%|██████████| 100/100 [03:04<00:00,  1.84s/trial, best loss: -0.8871026317700893]\n"
     ]
    }
   ],
   "source": [
    "trials = Trials()\n",
    "\n",
    "best_hyperparams = fmin(fn = objective,\n",
    "                        space = space,\n",
    "                        algo = tpe.suggest,\n",
    "                        max_evals = 100,\n",
    "                        trials = trials)"
   ]
  },
  {
   "cell_type": "code",
   "execution_count": 20,
   "metadata": {},
   "outputs": [
    {
     "name": "stdout",
     "output_type": "stream",
     "text": [
      "The best hyperparameters are :  \n",
      "\n",
      "{'alpha': 2.6812047587432972, 'colsample_bytree': 0.5734944233567383, 'eta': 0.5193081009080697, 'gamma': 8.912338423890098, 'lambda': 8.1831374147006, 'max_depth': 3.0, 'min_child_weight': 1.0, 'subsample': 0.8268257425085901}\n"
     ]
    }
   ],
   "source": [
    "print(\"The best hyperparameters are : \",\"\\n\")\n",
    "print(best_hyperparams)"
   ]
  },
  {
   "cell_type": "code",
   "execution_count": 21,
   "metadata": {},
   "outputs": [],
   "source": [
    "best_xgboost_parameters = {\n",
    "    'alpha': 9.4572,\n",
    "    'colsample_bytree': 0.6190,\n",
    "    'eta': 0.3873,\n",
    "    'gamma': 3.2264,\n",
    "    'lambda': 4.0406,\n",
    "    'max_depth': 12,\n",
    "    'min_child_weight': 0.0,\n",
    "    'subsample': 0.9290,\n",
    "    'n_estimators': 180,\n",
    "    'enable_categorical':True,\n",
    "    'tree_method':'gpu_hist',\n",
    "    'eval_metric': 'auc',\n",
    "}"
   ]
  },
  {
   "cell_type": "code",
   "execution_count": 22,
   "metadata": {},
   "outputs": [
    {
     "data": {
      "text/html": [
       "<style>#sk-container-id-2 {color: black;background-color: white;}#sk-container-id-2 pre{padding: 0;}#sk-container-id-2 div.sk-toggleable {background-color: white;}#sk-container-id-2 label.sk-toggleable__label {cursor: pointer;display: block;width: 100%;margin-bottom: 0;padding: 0.3em;box-sizing: border-box;text-align: center;}#sk-container-id-2 label.sk-toggleable__label-arrow:before {content: \"▸\";float: left;margin-right: 0.25em;color: #696969;}#sk-container-id-2 label.sk-toggleable__label-arrow:hover:before {color: black;}#sk-container-id-2 div.sk-estimator:hover label.sk-toggleable__label-arrow:before {color: black;}#sk-container-id-2 div.sk-toggleable__content {max-height: 0;max-width: 0;overflow: hidden;text-align: left;background-color: #f0f8ff;}#sk-container-id-2 div.sk-toggleable__content pre {margin: 0.2em;color: black;border-radius: 0.25em;background-color: #f0f8ff;}#sk-container-id-2 input.sk-toggleable__control:checked~div.sk-toggleable__content {max-height: 200px;max-width: 100%;overflow: auto;}#sk-container-id-2 input.sk-toggleable__control:checked~label.sk-toggleable__label-arrow:before {content: \"▾\";}#sk-container-id-2 div.sk-estimator input.sk-toggleable__control:checked~label.sk-toggleable__label {background-color: #d4ebff;}#sk-container-id-2 div.sk-label input.sk-toggleable__control:checked~label.sk-toggleable__label {background-color: #d4ebff;}#sk-container-id-2 input.sk-hidden--visually {border: 0;clip: rect(1px 1px 1px 1px);clip: rect(1px, 1px, 1px, 1px);height: 1px;margin: -1px;overflow: hidden;padding: 0;position: absolute;width: 1px;}#sk-container-id-2 div.sk-estimator {font-family: monospace;background-color: #f0f8ff;border: 1px dotted black;border-radius: 0.25em;box-sizing: border-box;margin-bottom: 0.5em;}#sk-container-id-2 div.sk-estimator:hover {background-color: #d4ebff;}#sk-container-id-2 div.sk-parallel-item::after {content: \"\";width: 100%;border-bottom: 1px solid gray;flex-grow: 1;}#sk-container-id-2 div.sk-label:hover label.sk-toggleable__label {background-color: #d4ebff;}#sk-container-id-2 div.sk-serial::before {content: \"\";position: absolute;border-left: 1px solid gray;box-sizing: border-box;top: 0;bottom: 0;left: 50%;z-index: 0;}#sk-container-id-2 div.sk-serial {display: flex;flex-direction: column;align-items: center;background-color: white;padding-right: 0.2em;padding-left: 0.2em;position: relative;}#sk-container-id-2 div.sk-item {position: relative;z-index: 1;}#sk-container-id-2 div.sk-parallel {display: flex;align-items: stretch;justify-content: center;background-color: white;position: relative;}#sk-container-id-2 div.sk-item::before, #sk-container-id-2 div.sk-parallel-item::before {content: \"\";position: absolute;border-left: 1px solid gray;box-sizing: border-box;top: 0;bottom: 0;left: 50%;z-index: -1;}#sk-container-id-2 div.sk-parallel-item {display: flex;flex-direction: column;z-index: 1;position: relative;background-color: white;}#sk-container-id-2 div.sk-parallel-item:first-child::after {align-self: flex-end;width: 50%;}#sk-container-id-2 div.sk-parallel-item:last-child::after {align-self: flex-start;width: 50%;}#sk-container-id-2 div.sk-parallel-item:only-child::after {width: 0;}#sk-container-id-2 div.sk-dashed-wrapped {border: 1px dashed gray;margin: 0 0.4em 0.5em 0.4em;box-sizing: border-box;padding-bottom: 0.4em;background-color: white;}#sk-container-id-2 div.sk-label label {font-family: monospace;font-weight: bold;display: inline-block;line-height: 1.2em;}#sk-container-id-2 div.sk-label-container {text-align: center;}#sk-container-id-2 div.sk-container {/* jupyter's `normalize.less` sets `[hidden] { display: none; }` but bootstrap.min.css set `[hidden] { display: none !important; }` so we also need the `!important` here to be able to override the default hidden behavior on the sphinx rendered scikit-learn.org. See: https://github.com/scikit-learn/scikit-learn/issues/21755 */display: inline-block !important;position: relative;}#sk-container-id-2 div.sk-text-repr-fallback {display: none;}</style><div id=\"sk-container-id-2\" class=\"sk-top-container\"><div class=\"sk-text-repr-fallback\"><pre>XGBClassifier(alpha=9.4572, base_score=0.5, booster=&#x27;gbtree&#x27;, callbacks=None,\n",
       "              colsample_bylevel=1, colsample_bynode=1, colsample_bytree=0.619,\n",
       "              early_stopping_rounds=None, enable_categorical=True, eta=0.3873,\n",
       "              eval_metric=&#x27;auc&#x27;, feature_types=None, gamma=3.2264, gpu_id=0,\n",
       "              grow_policy=&#x27;depthwise&#x27;, importance_type=None,\n",
       "              interaction_constraints=&#x27;&#x27;, lambda=4.0406,\n",
       "              learning_rate=0.387300014, max_bin=256, max_cat_threshold=64,\n",
       "              max_cat_to_onehot=4, max_delta_step=0, max_depth=12, max_leaves=0,\n",
       "              min_child_weight=0.0, missing=nan, monotone_constraints=&#x27;()&#x27;,\n",
       "              n_estimators=180, n_jobs=0, ...)</pre><b>In a Jupyter environment, please rerun this cell to show the HTML representation or trust the notebook. <br />On GitHub, the HTML representation is unable to render, please try loading this page with nbviewer.org.</b></div><div class=\"sk-container\" hidden><div class=\"sk-item\"><div class=\"sk-estimator sk-toggleable\"><input class=\"sk-toggleable__control sk-hidden--visually\" id=\"sk-estimator-id-2\" type=\"checkbox\" checked><label for=\"sk-estimator-id-2\" class=\"sk-toggleable__label sk-toggleable__label-arrow\">XGBClassifier</label><div class=\"sk-toggleable__content\"><pre>XGBClassifier(alpha=9.4572, base_score=0.5, booster=&#x27;gbtree&#x27;, callbacks=None,\n",
       "              colsample_bylevel=1, colsample_bynode=1, colsample_bytree=0.619,\n",
       "              early_stopping_rounds=None, enable_categorical=True, eta=0.3873,\n",
       "              eval_metric=&#x27;auc&#x27;, feature_types=None, gamma=3.2264, gpu_id=0,\n",
       "              grow_policy=&#x27;depthwise&#x27;, importance_type=None,\n",
       "              interaction_constraints=&#x27;&#x27;, lambda=4.0406,\n",
       "              learning_rate=0.387300014, max_bin=256, max_cat_threshold=64,\n",
       "              max_cat_to_onehot=4, max_delta_step=0, max_depth=12, max_leaves=0,\n",
       "              min_child_weight=0.0, missing=nan, monotone_constraints=&#x27;()&#x27;,\n",
       "              n_estimators=180, n_jobs=0, ...)</pre></div></div></div></div></div>"
      ],
      "text/plain": [
       "XGBClassifier(alpha=9.4572, base_score=0.5, booster='gbtree', callbacks=None,\n",
       "              colsample_bylevel=1, colsample_bynode=1, colsample_bytree=0.619,\n",
       "              early_stopping_rounds=None, enable_categorical=True, eta=0.3873,\n",
       "              eval_metric='auc', feature_types=None, gamma=3.2264, gpu_id=0,\n",
       "              grow_policy='depthwise', importance_type=None,\n",
       "              interaction_constraints='', lambda=4.0406,\n",
       "              learning_rate=0.387300014, max_bin=256, max_cat_threshold=64,\n",
       "              max_cat_to_onehot=4, max_delta_step=0, max_depth=12, max_leaves=0,\n",
       "              min_child_weight=0.0, missing=nan, monotone_constraints='()',\n",
       "              n_estimators=180, n_jobs=0, ...)"
      ]
     },
     "execution_count": 22,
     "metadata": {},
     "output_type": "execute_result"
    }
   ],
   "source": [
    "best_xgb_clf =xgb.XGBClassifier(**best_xgboost_parameters)\n",
    "best_xgb_clf.fit(X_train, y_train)"
   ]
  },
  {
   "cell_type": "code",
   "execution_count": 23,
   "metadata": {},
   "outputs": [
    {
     "name": "stdout",
     "output_type": "stream",
     "text": [
      "Accuracy:  0.8896321799006363\n",
      "Precision score:  0.7872722607133693\n",
      "Recall score:  0.7811916482770328\n",
      "F1 score:  0.7842201678524263\n",
      "roc_auc score:  0.854140239266045\n"
     ]
    },
    {
     "data": {
      "image/png": "[encoded data removed]",
      "text/plain": [
       "<Figure size 1500x500 with 3 Axes>"
      ]
     },
     "metadata": {},
     "output_type": "display_data"
    }
   ],
   "source": [
    "pred_test = best_xgb_clf.predict(X_test)\n",
    "pred_prob = best_xgb_clf.predict_proba(X_test)\n",
    "display_metrics(best_xgb_clf, y_test, pred_test, pred_prob)"
   ]
  },
  {
   "attachments": {},
   "cell_type": "markdown",
   "metadata": {},
   "source": [
    "# Neural Network with most important features"
   ]
  },
  {
   "cell_type": "code",
   "execution_count": 24,
   "metadata": {},
   "outputs": [
    {
     "name": "stderr",
     "output_type": "stream",
     "text": [
      "c:\\Users\\asude\\anaconda3\\envs\\ML\\lib\\site-packages\\tqdm\\auto.py:22: TqdmWarning: IProgress not found. Please update jupyter and ipywidgets. See https://ipywidgets.readthedocs.io/en/stable/user_install.html\n",
      "  from .autonotebook import tqdm as notebook_tqdm\n"
     ]
    }
   ],
   "source": [
    "from pytorch_tabnet.tab_model import TabNetClassifier\n",
    "import torch"
   ]
  },
  {
   "attachments": {},
   "cell_type": "markdown",
   "metadata": {},
   "source": [
    "Tabnet cannot work with missing or categorical data. Hence, feature processing is required."
   ]
  },
  {
   "cell_type": "code",
   "execution_count": 25,
   "metadata": {},
   "outputs": [
    {
     "data": {
      "text/plain": [
       "P_2_min               11744\n",
       "P_2_last              10609\n",
       "P_2_mean               6832\n",
       "B_1_last              13994\n",
       "D_48_last             13769\n",
       "D_44_last              8249\n",
       "B_2_last              11667\n",
       "B_3_last_lag_sub      23132\n",
       "R_1_mean               9911\n",
       "P_2_last_lag_div      12101\n",
       "B_7_mean               8781\n",
       "D_51_last              8111\n",
       "D_56_mean              9908\n",
       "B_10_last             12469\n",
       "R_1_std              365994\n",
       "D_44_max               3031\n",
       "D_56_max               9346\n",
       "B_23_last             12286\n",
       "R_2_last               8197\n",
       "B_8_mean               3084\n",
       "R_27_min               8488\n",
       "D_41_last_lag_sub     21772\n",
       "B_3_last              14633\n",
       "D_45_first            13250\n",
       "B_4_last_lag_sub      20826\n",
       "D_77_mean             10729\n",
       "dtype: int64"
      ]
     },
     "execution_count": 25,
     "metadata": {},
     "output_type": "execute_result"
    }
   ],
   "source": [
    "X_train.nunique()"
   ]
  },
  {
   "attachments": {},
   "cell_type": "markdown",
   "metadata": {},
   "source": [
    "All features are numeric, no need to one hot code."
   ]
  },
  {
   "cell_type": "code",
   "execution_count": 26,
   "metadata": {},
   "outputs": [],
   "source": [
    "from feature_engine.imputation import MeanMedianImputer, CategoricalImputer\n",
    "\n",
    "\n",
    "median_imputer = MeanMedianImputer(imputation_method='median')\n",
    "median_imputer.fit(X_train)\n",
    "X_train = median_imputer.transform(X_train)\n",
    "X_val = median_imputer.transform(X_val)\n",
    "X_test = median_imputer.transform(X_test)\n"
   ]
  },
  {
   "cell_type": "code",
   "execution_count": 27,
   "metadata": {},
   "outputs": [
    {
     "data": {
      "text/plain": [
       "0"
      ]
     },
     "execution_count": 27,
     "metadata": {},
     "output_type": "execute_result"
    }
   ],
   "source": [
    "X_train.isna().sum().sum()"
   ]
  },
  {
   "cell_type": "code",
   "execution_count": 28,
   "metadata": {},
   "outputs": [
    {
     "name": "stderr",
     "output_type": "stream",
     "text": [
      "c:\\Users\\asude\\anaconda3\\envs\\ML\\lib\\site-packages\\pytorch_tabnet\\abstract_model.py:75: UserWarning: Device used : cpu\n",
      "  warnings.warn(f\"Device used : {self.device}\")\n"
     ]
    }
   ],
   "source": [
    "model = TabNetClassifier(   n_d = 12,\n",
    "                            n_a = 12,\n",
    "                            n_steps = 3, #default\n",
    "                            gamma = 1.3, #default\n",
    "                            n_independent = 2, #default\n",
    "                            n_shared = 2, #default\n",
    "                            momentum = 0.02, #default\n",
    "                            clip_value = None, #default\n",
    "                            lambda_sparse = 1e-3,\n",
    "                            optimizer_fn = torch.optim.Adam, #default\n",
    "                            optimizer_params = dict(lr = 2e-2, weight_decay=1e-3),\n",
    "                            scheduler_fn = torch.optim.lr_scheduler.CosineAnnealingWarmRestarts,\n",
    "                            scheduler_params = {'T_0':5,\n",
    "                                                 'eta_min':1e-4,\n",
    "                                                 'T_mult':1,\n",
    "                                                 'last_epoch':-1},\n",
    "                            mask_type = 'entmax',\n",
    "                        )"
   ]
  },
  {
   "cell_type": "code",
   "execution_count": 29,
   "metadata": {},
   "outputs": [
    {
     "name": "stdout",
     "output_type": "stream",
     "text": [
      "epoch 0  | loss: 0.27831 | val_0_accuracy: 0.87902 | val_0_auc: 0.94796 |  0:00:23s\n",
      "epoch 1  | loss: 0.26107 | val_0_accuracy: 0.88376 | val_0_auc: 0.94774 |  0:00:43s\n",
      "epoch 2  | loss: 0.25926 | val_0_accuracy: 0.88156 | val_0_auc: 0.94815 |  0:01:03s\n",
      "epoch 3  | loss: 0.25784 | val_0_accuracy: 0.88638 | val_0_auc: 0.94869 |  0:01:24s\n",
      "epoch 4  | loss: 0.25558 | val_0_accuracy: 0.88471 | val_0_auc: 0.94954 |  0:01:45s\n",
      "epoch 5  | loss: 0.26076 | val_0_accuracy: 0.88134 | val_0_auc: 0.94795 |  0:02:06s\n",
      "epoch 6  | loss: 0.26074 | val_0_accuracy: 0.8811  | val_0_auc: 0.94846 |  0:02:31s\n",
      "epoch 7  | loss: 0.25965 | val_0_accuracy: 0.8842  | val_0_auc: 0.94766 |  0:02:56s\n",
      "epoch 8  | loss: 0.25784 | val_0_accuracy: 0.88163 | val_0_auc: 0.94874 |  0:03:23s\n",
      "epoch 9  | loss: 0.25652 | val_0_accuracy: 0.88669 | val_0_auc: 0.94887 |  0:03:52s\n",
      "epoch 10 | loss: 0.26025 | val_0_accuracy: 0.88514 | val_0_auc: 0.94796 |  0:04:21s\n",
      "epoch 11 | loss: 0.25965 | val_0_accuracy: 0.87974 | val_0_auc: 0.94835 |  0:04:52s\n",
      "epoch 12 | loss: 0.25931 | val_0_accuracy: 0.88519 | val_0_auc: 0.94853 |  0:05:24s\n",
      "epoch 13 | loss: 0.25774 | val_0_accuracy: 0.88209 | val_0_auc: 0.94844 |  0:05:57s\n",
      "epoch 14 | loss: 0.25657 | val_0_accuracy: 0.88584 | val_0_auc: 0.94894 |  0:06:31s\n",
      "epoch 15 | loss: 0.26019 | val_0_accuracy: 0.88538 | val_0_auc: 0.94831 |  0:07:04s\n",
      "epoch 16 | loss: 0.25992 | val_0_accuracy: 0.88524 | val_0_auc: 0.94824 |  0:07:36s\n",
      "epoch 17 | loss: 0.25906 | val_0_accuracy: 0.88439 | val_0_auc: 0.94834 |  0:08:08s\n",
      "epoch 18 | loss: 0.25817 | val_0_accuracy: 0.88504 | val_0_auc: 0.94852 |  0:08:40s\n",
      "epoch 19 | loss: 0.25686 | val_0_accuracy: 0.88613 | val_0_auc: 0.94919 |  0:09:13s\n",
      "epoch 20 | loss: 0.26018 | val_0_accuracy: 0.88197 | val_0_auc: 0.94778 |  0:09:47s\n",
      "epoch 21 | loss: 0.25976 | val_0_accuracy: 0.88241 | val_0_auc: 0.9467  |  0:10:20s\n",
      "epoch 22 | loss: 0.25927 | val_0_accuracy: 0.88422 | val_0_auc: 0.94829 |  0:10:52s\n",
      "epoch 23 | loss: 0.25795 | val_0_accuracy: 0.88282 | val_0_auc: 0.948   |  0:11:25s\n",
      "epoch 24 | loss: 0.2569  | val_0_accuracy: 0.88587 | val_0_auc: 0.94893 |  0:11:59s\n",
      "epoch 25 | loss: 0.26072 | val_0_accuracy: 0.88352 | val_0_auc: 0.94773 |  0:12:31s\n",
      "epoch 26 | loss: 0.25967 | val_0_accuracy: 0.88536 | val_0_auc: 0.94721 |  0:13:02s\n",
      "epoch 27 | loss: 0.25917 | val_0_accuracy: 0.88364 | val_0_auc: 0.94745 |  0:13:34s\n",
      "epoch 28 | loss: 0.25803 | val_0_accuracy: 0.88567 | val_0_auc: 0.94886 |  0:14:06s\n",
      "epoch 29 | loss: 0.25664 | val_0_accuracy: 0.88536 | val_0_auc: 0.94906 |  0:14:38s\n",
      "\n",
      "Early stopping occurred at epoch 29 with best_epoch = 4 and best_val_0_auc = 0.94954\n"
     ]
    },
    {
     "name": "stderr",
     "output_type": "stream",
     "text": [
      "c:\\Users\\asude\\anaconda3\\envs\\ML\\lib\\site-packages\\pytorch_tabnet\\callbacks.py:172: UserWarning: Best weights from best epoch are automatically used!\n",
      "  warnings.warn(wrn_msg)\n"
     ]
    }
   ],
   "source": [
    "model.fit(np.array(X_train),\n",
    "              np.array(y_train.values.ravel()),\n",
    "              eval_set = [(np.array(X_val), np.array(y_val.values.ravel()))],\n",
    "              max_epochs = 1000,\n",
    "              patience = 25,\n",
    "              batch_size = 1024,\n",
    "              eval_metric = ['accuracy', 'auc']) # Last metric is used for early stopping\n",
    "    "
   ]
  },
  {
   "cell_type": "code",
   "execution_count": 30,
   "metadata": {},
   "outputs": [
    {
     "data": {
      "text/plain": [
       "<matplotlib.legend.Legend at 0x1f4899d4550>"
      ]
     },
     "execution_count": 30,
     "metadata": {},
     "output_type": "execute_result"
    },
    {
     "data": {
      "image/png": "[encoded data removed]",
      "text/plain": [
       "<Figure size 640x480 with 1 Axes>"
      ]
     },
     "metadata": {},
     "output_type": "display_data"
    }
   ],
   "source": [
    "stats = pd.DataFrame()\n",
    "stats['train_loss'] = model.history['loss']\n",
    "\n",
    "\n",
    "for i in stats.filter(like='train', axis=1).columns.tolist():\n",
    "    plt.plot(stats[i], label=str(i))\n",
    "plt.title('Train loss')\n",
    "plt.legend()  "
   ]
  },
  {
   "cell_type": "code",
   "execution_count": 31,
   "metadata": {},
   "outputs": [
    {
     "name": "stdout",
     "output_type": "stream",
     "text": [
      "Accuracy:  0.8883247624858364\n",
      "Precision score:  0.8090242317333581\n",
      "Recall score:  0.7396027839076558\n",
      "F1 score:  0.7727575045448499\n",
      "roc_auc score:  0.8396489439913536\n"
     ]
    },
    {
     "data": {
      "image/png": "[encoded data removed]",
      "text/plain": [
       "<Figure size 1500x500 with 3 Axes>"
      ]
     },
     "metadata": {},
     "output_type": "display_data"
    }
   ],
   "source": [
    "tabnet_pred_proba = model.predict_proba(np.array(X_test))\n",
    "tabnet_pred = model.predict(np.array(X_test))\n",
    "display_metrics(model, y_test, tabnet_pred, tabnet_pred_proba)\n"
   ]
  },
  {
   "cell_type": "code",
   "execution_count": null,
   "metadata": {},
   "outputs": [],
   "source": [
    "\n"
   ]
  },
  {
   "cell_type": "code",
   "execution_count": null,
   "metadata": {},
   "outputs": [],
   "source": []
  },
  {
   "cell_type": "code",
   "execution_count": null,
   "metadata": {},
   "outputs": [],
   "source": []
  }
 ],
 "metadata": {
  "kernelspec": {
   "display_name": "ML",
   "language": "python",
   "name": "python3"
  },
  "language_info": {
   "codemirror_mode": {
    "name": "ipython",
    "version": 3
   },
   "file_extension": ".py",
   "mimetype": "text/x-python",
   "name": "python",
   "nbconvert_exporter": "python",
   "pygments_lexer": "ipython3",
   "version": "3.9.13"
  },
  "orig_nbformat": 4,
  "vscode": {
   "interpreter": {
    "hash": "d2e5c6da395d50cabbd802f52c74cbcf0ba8c1f7a548c89214c2929943f1741b"
   }
  }
 },
 "nbformat": 4,
 "nbformat_minor": 2
}
