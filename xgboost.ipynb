{
 "cells": [
  {
   "cell_type": "code",
   "execution_count": 58,
   "metadata": {},
   "outputs": [],
   "source": [
    "import pandas as pd\n",
    "import xgboost as xgb\n",
    "import numpy as np"
   ]
  },
  {
   "cell_type": "code",
   "execution_count": 85,
   "metadata": {},
   "outputs": [],
   "source": [
    "train_df = pd.read_feather(\"aggregated_data.ftr\")\n",
    "train_labels_df = pd.read_feather(\"train_labels.ftr\")"
   ]
  },
  {
   "cell_type": "code",
   "execution_count": 81,
   "metadata": {},
   "outputs": [],
   "source": [
    "xgboost_parameters = {\n",
    "    'verbosity': 2,\n",
    "    'max_depth':4, \n",
    "    'learning_rate':0.04, \n",
    "    'subsample':0.71,\n",
    "    'colsample_bytree':0.72, \n",
    "    'eval_metric':'logloss',\n",
    "    'objective':'binary:logistic',\n",
    "    'use_label_encoder': False,\n",
    "    }\n"
   ]
  },
  {
   "cell_type": "code",
   "execution_count": 86,
   "metadata": {},
   "outputs": [],
   "source": [
    "train_df = train_df.drop(columns=[\"customer_ID\"])\n",
    "train_labels_df = train_labels_df.drop(columns=[\"customer_ID\"])"
   ]
  },
  {
   "cell_type": "code",
   "execution_count": null,
   "metadata": {},
   "outputs": [],
   "source": [
    "xgb_clf = xgb.XGBClassifier(**xgboost_parameters)\n",
    "print(xgb_clf.get_params())\n",
    "xgb_clf.fit(train_df, train_labels_df[\"target\"])"
   ]
  }
 ],
 "metadata": {
  "kernelspec": {
   "display_name": "Python 3.9.13 ('ML')",
   "language": "python",
   "name": "python3"
  },
  "language_info": {
   "codemirror_mode": {
    "name": "ipython",
    "version": 3
   },
   "file_extension": ".py",
   "mimetype": "text/x-python",
   "name": "python",
   "nbconvert_exporter": "python",
   "pygments_lexer": "ipython3",
   "version": "3.9.13"
  },
  "orig_nbformat": 4,
  "vscode": {
   "interpreter": {
    "hash": "d2e5c6da395d50cabbd802f52c74cbcf0ba8c1f7a548c89214c2929943f1741b"
   }
  }
 },
 "nbformat": 4,
 "nbformat_minor": 2
}
